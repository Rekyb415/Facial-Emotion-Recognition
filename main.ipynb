{
 "cells": [
  {
   "cell_type": "code",
   "execution_count": 1,
   "id": "e149b95f",
   "metadata": {},
   "outputs": [
    {
     "name": "stderr",
     "output_type": "stream",
     "text": [
      "2023-06-02 18:18:22.327017: I tensorflow/core/platform/cpu_feature_guard.cc:182] This TensorFlow binary is optimized to use available CPU instructions in performance-critical operations.\n",
      "To enable the following instructions: AVX2 FMA, in other operations, rebuild TensorFlow with the appropriate compiler flags.\n"
     ]
    }
   ],
   "source": [
    "import numpy as np\n",
    "import cv2\n",
    "import tensorflow as tf\n",
    "\n",
    "face_detection = cv2.CascadeClassifier('haar_cascade_face_detection.xml')\n",
    "\n",
    "camera = cv2.VideoCapture(0)\n",
    "camera.set(cv2.CAP_PROP_FRAME_WIDTH, 1024)\n",
    "camera.set(cv2.CAP_PROP_FRAME_HEIGHT, 768)\n",
    "settings = {\n",
    "    'scaleFactor': 1.3, \n",
    "    'minNeighbors': 5, \n",
    "    'minSize': (50, 50)\n",
    "}\n",
    "\n",
    "labels = [\"Neutral\",\"Happy\",\"Surprise\",\"Sad\",\"Angry\",\"Disgust\",\"Fear\", \"Contempt\"]\n",
    "\n",
    "model = tf.keras.models.load_model('model.h5')\n",
    "\n",
    "while True:\n",
    "\tret, img = camera.read()\n",
    "\tgray = cv2.cvtColor(img, cv2.COLOR_BGR2GRAY)\n",
    "\tdetected = face_detection.detectMultiScale(gray, **settings)\n",
    "    \n",
    "\tfor x, y, w, h in detected:\n",
    "\t\tcv2.rectangle(img, (x, y), (x+w, y+h), (245, 135, 66), 2)\n",
    "\t\tcv2.rectangle(img, (x, y), (x+w//3, y+20), (245, 135, 66), -1)\n",
    "\t\tface = gray[y+5:y+h-5, x+20:x+w-20]\n",
    "\t\tface = cv2.resize(face, (48,48)) \n",
    "\t\tface = face/255.0\n",
    "\t\t\n",
    "\t\tpredictions = model.predict(np.array([face.reshape((48,48,1))])).argmax()\n",
    "\t\tstate = labels[predictions]\n",
    "\t\tfont = cv2.FONT_HERSHEY_SIMPLEX\n",
    "\t\tcv2.putText(img,state,(x+10,y+15), font, 0.5, (255,255,255), 2, cv2.LINE_AA)\n",
    "\t\t\n",
    "\tcv2.imshow('Facial Expression', img)\n",
    "\timg = cv2.cvtColor(img, cv2.COLOR_BGR2RGB)\n",
    "\t# writer.writeFrame(img)\n",
    "\tif cv2.waitKey(5) != -1:\n",
    "\t\tbreak\n",
    "\n",
    "camera.release()\n",
    "cv2.destroyAllWindows()"
   ]
  }
 ],
 "metadata": {
  "kernelspec": {
   "display_name": "Python 3 (ipykernel)",
   "language": "python",
   "name": "python3"
  },
  "language_info": {
   "codemirror_mode": {
    "name": "ipython",
    "version": 3
   },
   "file_extension": ".py",
   "mimetype": "text/x-python",
   "name": "python",
   "nbconvert_exporter": "python",
   "pygments_lexer": "ipython3",
   "version": "3.10.9"
  }
 },
 "nbformat": 4,
 "nbformat_minor": 5
}
